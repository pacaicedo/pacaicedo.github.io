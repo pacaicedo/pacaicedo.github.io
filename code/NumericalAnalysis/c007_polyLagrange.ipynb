{
 "cells": [
  {
   "cell_type": "code",
   "execution_count": 2,
   "metadata": {},
   "outputs": [],
   "source": [
    "from sympy import *\n",
    "import numpy as np"
   ]
  },
  {
   "cell_type": "code",
   "execution_count": 3,
   "metadata": {},
   "outputs": [],
   "source": [
    "x = Symbol('x')"
   ]
  },
  {
   "cell_type": "code",
   "execution_count": 4,
   "metadata": {},
   "outputs": [
    {
     "data": {
      "text/latex": [
       "$\\displaystyle - 0.0271333604666938 x^{3} + 0.382580382580383 x^{2} - 1.64183964183964 x + 2.08251254917922$"
      ],
      "text/plain": [
       "-0.0271333604666938*x**3 + 0.382580382580383*x**2 - 1.64183964183964*x + 2.08251254917922"
      ]
     },
     "execution_count": 4,
     "metadata": {},
     "output_type": "execute_result"
    }
   ],
   "source": [
    "gamma_0 = ((x-2.3)*(x-4.7)*(x-7.1))/((0.8-2.3)*(0.8-4.7)*(0.8-7.1))\n",
    "gamma_0 = gamma_0.expand()\n",
    "gamma_0\n",
    "gamma_1 = ((x-0.8)*(x-4.7)*(x-7.1))/((2.3-0.8)*(2.3-4.7)*(2.3-7.1))\n",
    "gamma_1 = gamma_1.expand()\n",
    "gamma_1\n",
    "gamma_2 = ((x-2.3)*(x-0.8)*(x-7.1))/((4.7-2.3)*(4.7-0.8)*(4.7-7.1))\n",
    "gamma_2 = gamma_2.expand()\n",
    "gamma_2\n",
    "gamma_3 = ((x-2.3)*(x-4.7)*(x-0.8))/((7.1-2.3)*(7.1-4.7)*(7.1-0.8))\n",
    "gamma_3 = gamma_3.expand()\n",
    "gamma_3\n",
    "P = 10000*gamma_0 +  15000*gamma_1 + 40000*gamma_2 + 80000*gamma_3\n",
    "P_np = lambdify(x,P,'numpy')\n",
    "area = np.array([0.8, 2.3, 4.7, 7.1])\n",
    "precio = np.array([10000, 15000, 40000, 80000])\n",
    "import matplotlib.pyplot as plt\n",
    "\n",
    "t = np.linspace(0.8, 7.1, 1000)\n",
    "\n",
    "figua01 = plt.figure()\n",
    "plt.plot(area, precio, 'o:')\n",
    "plt.plot(t, P_np(t))\n",
    "plt.plot(3.5,P_np(3.5), 's')\n",
    "P_np(3.5)"
   ]
  },
  {
   "cell_type": "code",
   "execution_count": null,
   "metadata": {},
   "outputs": [],
   "source": []
  },
  {
   "cell_type": "code",
   "execution_count": null,
   "metadata": {},
   "outputs": [],
   "source": []
  }
 ],
 "metadata": {
  "kernelspec": {
   "display_name": "Python 3",
   "language": "python",
   "name": "python3"
  },
  "language_info": {
   "codemirror_mode": {
    "name": "ipython",
    "version": 3
   },
   "file_extension": ".py",
   "mimetype": "text/x-python",
   "name": "python",
   "nbconvert_exporter": "python",
   "pygments_lexer": "ipython3",
   "version": "3.11.4"
  },
  "orig_nbformat": 4
 },
 "nbformat": 4,
 "nbformat_minor": 2
}
