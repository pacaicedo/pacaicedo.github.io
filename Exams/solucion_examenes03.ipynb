{
 "cells": [
  {
   "cell_type": "markdown",
   "metadata": {},
   "source": [
    "# Solución Punto 01\n",
    "Los datos describen dos intervalos de estudio $\\left[1,4\\right]$ y $\\left[4,6\\right]$. Bajo esta consideración se tiene que:\n",
    "\n",
    "$$\n",
    "\\begin{align*}\n",
    "\\left[1,4\\right] & : & s_0\\left(x\\right) = a_{0,0} + a_{0,1} x + a_{0,2}x^2 + a_{0,3}x^3\\\\\n",
    "\\left[4,6\\right] & : & s_1\\left(x\\right) = a_{1,0} + a_{1,1} x + a_{1,2}x^2 + a_{1,3}x^3\n",
    "\\end{align*}\n",
    "$$"
   ]
  },
  {
   "cell_type": "markdown",
   "metadata": {},
   "source": [
    "Para construir los trazadores cúbicos, se deben tener en cuenta las primeras $\\dot{s}_i\\left(x\\right)$  y segundas $\\ddot{s}_i\\left(x\\right)$  derivadas de cada función en todos los intervalos. Las expresiones de las primeras derivadas son:\n",
    "\n",
    "$$\n",
    "\\begin{align*}\n",
    "\\left[1,4\\right] & : & \\dot{s}_0\\left(x\\right) = a_{0,1} + 2 a_{0,2}x + 3 a_{0,3}x^2\\\\\n",
    "\\left[4,6\\right] & : & \\dot{s}_1\\left(x\\right) = a_{1,1} + 2 a_{1,2}x + 3 a_{1,3}x^2\n",
    "\\end{align*}\n",
    "$$\n",
    "\n",
    "Las expresiones para la segunda derivadas son:\n",
    "\n",
    "$$\n",
    "\\begin{align*}\n",
    "\\left[1,4\\right] & : & \\ddot{s}_0\\left(x\\right) = 2 a_{0,2} + 6 a_{0,3}x\\\\\n",
    "\\left[4,6\\right] & : & \\ddot{s}_1\\left(x\\right) = 2 a_{1,2} + 6 a_{1,3}x\n",
    "\\end{align*}\n",
    "$$"
   ]
  },
  {
   "cell_type": "markdown",
   "metadata": {},
   "source": [
    "Para determinar los trazadores se deben cumplir las siguientes condiciones:\n",
    "\n",
    "## Condición de  interpolación\n",
    "\n",
    "$$\n",
    "\\begin{align*}\n",
    "s_0\\left(1\\right) & = & -2\\\\\n",
    "s_0\\left(4\\right) & = & 3\\\\\n",
    "s_1\\left(4\\right) & = & 3\\\\\n",
    "s_1\\left(6\\right) & = & 1\n",
    "\\end{align*}\n",
    "$$\n",
    "\n",
    "Reemplazando las ecuaciones se tiene que:\n",
    "\n",
    "$$\n",
    "\\begin{align*}\n",
    "s_0\\left(1\\right) & = & -2 & = & a_{0,0} + a_{0,1} + a_{0,2} + a_{0,3}\\\\\n",
    "s_0\\left(4\\right) & = & 3 & = & a_{0,0} + 4 a_{0,1} + 16 a_{0,2} + 64 a_{0,3}\\\\\n",
    "s_1\\left(4\\right) & = & 3 & = & a_{1,0} + 4 a_{1,1} + 16 a_{1,2} + 64 a_{1,3}\\\\\n",
    "s_1\\left(6\\right) & = & 1 & = & a_{1,0} + 6 a_{1,1} + 36 a_{1,2} + 216 a_{1,3}\n",
    "\\end{align*}\n",
    "$$"
   ]
  },
  {
   "cell_type": "markdown",
   "metadata": {},
   "source": [
    "## Condición de la primera derivada\n",
    "\n",
    "$$\n",
    "\\begin{align*}\n",
    "\\dot{s}_0\\left( 4 \\right) = \\dot{s}_1\\left( 4 \\right) \\\\\n",
    "a_{0,1} + 8 a_{0,2} + 48 a_{0,3} = a_{1,1} +  8 a_{1,2} + 48 a_{1,3}\\\\\n",
    "a_{0,1} + 8 a_{0,2} + 48 a_{0,3} - a_{1,1} -  8 a_{1,2} - 48 a_{1,3} = 0 \\\\\n",
    "\n",
    "\\end{align*}\n",
    "$$"
   ]
  },
  {
   "cell_type": "markdown",
   "metadata": {},
   "source": [
    "## Condición de la segunda derivada\n",
    "\n",
    "$$\n",
    "\\begin{align*}\n",
    "\\ddot{s}_0\\left(4\\right) = \\ddot{s}_1\\left(4\\right)\\\\\n",
    "2 a_{0,2} + 24 a_{0,3} = 2 a_{1,2} + 24 a_{1,3}\\\\\n",
    "2 a_{0,2} + 24 a_{0,3} - 2 a_{1,2} - 24 a_{1,3} = 0\n",
    "\\end{align*}\n",
    "$$"
   ]
  },
  {
   "cell_type": "markdown",
   "metadata": {},
   "source": [
    "## Condición de la frontera natural\n",
    "\n",
    "$$\n",
    "\\begin{align*}\n",
    "\\ddot{s}_0\\left(1\\right) &=&0\\\\\n",
    "\\ddot{s}_1\\left(6\\right) &=&0\\\\\n",
    "2 a_{0,2} + 6 a_{0,3}&=&0\\\\\n",
    "2 a_{1,2} + 36 a_{1,3}&=&0\n",
    "\\end{align*}\n",
    "$$"
   ]
  },
  {
   "cell_type": "markdown",
   "metadata": {},
   "source": [
    "## Totalidad de ecuaciones a resolver\n",
    "\n",
    "$$\n",
    "\\begin{align*}\n",
    "\n",
    "a_{0,0} + a_{0,1} + a_{0,2} + a_{0,3} & = & -2\\\\\n",
    "a_{0,0} + 4 a_{0,1} + 16 a_{0,2} + 64 a_{0,3} & = & 3\\\\\n",
    "a_{1,0} + 4 a_{1,1} + 16 a_{1,2} + 64 a_{1,3} & = & 3\\\\\n",
    "a_{1,0} + 6 a_{1,1} + 36 a_{1,2} + 216 a_{1,3} & = & 1\\\\\n",
    "\n",
    "a_{0,1} + 8 a_{0,2} + 48 a_{0,3} - a_{1,1} -  8 a_{1,2} - 48 a_{1,3} & = & 0 \\\\\n",
    "2 a_{0,2} + 24 a_{0,3} - 2 a_{1,2} - 24 a_{1,3}& = &0\\\\\n",
    "2 a_{0,2} + 24 a_{0,3}&=&0\\\\\n",
    "2 a_{1,2} + 24 a_{1,3}&=&0\n",
    "\\end{align*}\n",
    "$$"
   ]
  },
  {
   "cell_type": "markdown",
   "metadata": {},
   "source": [
    "Reordenando en forma matricial las ecuaciones:\n",
    "\n",
    "$$\n",
    "\\begin{align*}\n",
    "\\begin{bmatrix}\n",
    "1 & 1 & 1  & 1  & 0 & 0  & 0  & 0   \\\\\n",
    "1 & 4 & 16 & 64 & 0 & 0  & 0  & 0   \\\\\n",
    "0 & 0 & 0  & 0  & 1 & 4  & 16 & 64  \\\\\n",
    "0 & 0 & 0  & 0  & 1 & 6  & 36 & 216 \\\\\n",
    "0 & 1 & 8  & 48 & 0 & -1 & -8 & -48 \\\\\n",
    "0 & 0 & 2  & 24 & 0 & 0  & -2 & -24 \\\\\n",
    "0 & 0 & 2  & 6  & 0 & 0  & 0  & 0   \\\\\n",
    "0 & 0 & 0  & 0  & 0 & 0  & 2  & 36 \n",
    "\\end{bmatrix}\n",
    "\\begin{bmatrix}\n",
    "a_{0,0}\\\\\n",
    "a_{0,1}\\\\\n",
    "a_{0,2}\\\\\n",
    "a_{0,3}\\\\\n",
    "a_{1,0}\\\\\n",
    "a_{1,1}\\\\\n",
    "a_{1,2}\\\\\n",
    "a_{1,3}\n",
    "\\end{bmatrix}=\n",
    "\\begin{bmatrix}\n",
    "-2\\\\3\\\\3\\\\1\\\\0\\\\0\\\\0\\\\0\n",
    "\\end{bmatrix}\n",
    "\\end{align*}\n",
    "$$"
   ]
  },
  {
   "cell_type": "code",
   "execution_count": 45,
   "metadata": {},
   "outputs": [],
   "source": [
    "import numpy as np\n",
    "\n",
    "a = np.array([[1,1,1,1,0,0,0,0],[1,4,16,64,0,0,0,0],[0,0,0,0,1,4,16,64],[0,0,0,0,1,6,36,216],[0,1,8,48,0,-1,-8,-48],[0,0,2,24,0,0,-2,-24],[0,0,2,6,0,0,0,0],[0,0,0,0,0,0,2,36]])\n",
    "b = np.array([-2,3,3,1,0,0,0,0])\n",
    "a00, a01, a02, a03, a10, a11, a12, a13 = np.linalg.solve(a,b)"
   ]
  },
  {
   "cell_type": "code",
   "execution_count": 46,
   "metadata": {},
   "outputs": [],
   "source": [
    "def spline(a,b,c,d,x):\n",
    "    return a + b*x + c*x**2 + d*x**3"
   ]
  },
  {
   "cell_type": "code",
   "execution_count": 47,
   "metadata": {},
   "outputs": [],
   "source": [
    "x = np.linspace(1,6,1000)\n",
    "y1 = spline(a00, a01, a02, a03, x[x<=4])\n",
    "y2 = spline(a10, a11, a12, a13, x[x>4])\n",
    "y = np.concatenate((y1,y2))"
   ]
  },
  {
   "cell_type": "code",
   "execution_count": 48,
   "metadata": {},
   "outputs": [
    {
     "data": {
      "image/png": "[encoded data removed]",
      "text/plain": [
       "<Figure size 640x480 with 1 Axes>"
      ]
     },
     "metadata": {},
     "output_type": "display_data"
    }
   ],
   "source": [
    "import matplotlib.pyplot as plt\n",
    "\n",
    "figura = plt.figure()\n",
    "plt.plot(x,y)\n",
    "plt.plot([1,4,6],[-2,3,1],'o')\n",
    "plt.grid()\n",
    "plt.show()"
   ]
  },
  {
   "cell_type": "markdown",
   "metadata": {},
   "source": [
    "# Solución Punto 2\n",
    "\n",
    "Si existen 1024 puntos, parejas ordenadas $\\left(x,y\\right)$, en un conjuntos de datos, se requeriran 1023 trazadores cuadráticos para realizar la interpolación."
   ]
  },
  {
   "cell_type": "markdown",
   "metadata": {},
   "source": [
    "# Solución Punto 3\n",
    "\n",
    "Se supone los siguientes datos: $N=5000$ es el número de datos a ajustar, los cuales son parejas ordenadas $\\left(x_k,y_k\\right)$, la salida del modelo de ajuste esta dado por la expresión $\\hat{y}_k=a_0 + a_1 x_k + a_2 x_k^2$ y el error entre los datos de la tabla y el modelo de aproximación, $e_c$ es dado por la siguiente expresión matemática:\n",
    "\n",
    "$$\n",
    "\\begin{align*}\n",
    "e_c & =  \\frac{1}{N}\\sum_{k=1}^{N} e_k\\\\\n",
    "e_k & =  \\left(y_k - \\hat{y}_k\\right)^2\\\\\n",
    "e_k & =  \\left(y_k - a_0 - a_1 x_k - a_2 x_k^2\\right)^2\\\\\n",
    "e_c & =  \\frac{1}{N}\\sum_{k=1}^{N} e_k\\\\\n",
    "e_c & = \\frac{1}{N}\\sum_{k=1}^{N} \\left(- a_{0} - a_{1} {x}_{k} - a_{2} {x}_{k}^{2} + {y}_{k}\\right)^{2}\n",
    "\\end{align*}\n",
    "$$"
   ]
  },
  {
   "cell_type": "markdown",
   "metadata": {},
   "source": [
    "Dado que debemos encontrar el mínimo de la función se igualan las tres derivadas parciales a 0. La expresión matemática queda de la forma:\n",
    "\n",
    "$$\n",
    "\\begin{align*}\n",
    "\\frac{\\partial e_c}{\\partial a_0} & = 0\\\\\n",
    "\\frac{\\partial e_c}{\\partial a_1} & = 0\\\\\n",
    "\\frac{\\partial e_c}{\\partial a_2} & = 0\n",
    "\\end{align*}\n",
    "$$"
   ]
  },
  {
   "cell_type": "markdown",
   "metadata": {},
   "source": [
    "$$\n",
    "\\begin{align*}\n",
    "\\frac{\\partial e_c}{\\partial a_0} & = \\frac{\\sum_{k=1}^{N} 2 a_{0}}{N} + \\frac{\\sum_{k=1}^{N} 2 a_{1} {x}_{k}}{N} + \\frac{\\sum_{k=1}^{N} 2 a_{2} {x}_{k}^{2}}{N} + \\frac{\\sum_{k=1}^{N} - 2 {y}_{k}}{N}\\\\\n",
    "\\frac{\\partial e_c}{\\partial a_1} & = \\frac{\\sum_{k=1}^{N} 2 a_{0} {x}_{k}}{N} + \\frac{\\sum_{k=1}^{N} 2 a_{1} {x}_{k}^{2}}{N} + \\frac{\\sum_{k=1}^{N} 2 a_{2} {x}_{k}^{3}}{N} + \\frac{\\sum_{k=1}^{N} - 2 {x}_{k} {y}_{k}}{N}\\\\\n",
    "\\frac{\\partial e_c}{\\partial a_2} & = \\frac{\\sum_{k=1}^{N} 2 a_{0} {x}_{k}^{2}}{N} + \\frac{\\sum_{k=1}^{N} 2 a_{1} {x}_{k}^{3}}{N} + \\frac{\\sum_{k=1}^{N} 2 a_{2} {x}_{k}^{4}}{N} + \\frac{\\sum_{k=1}^{N} - 2 {x}_{k}^{2} {y}_{k}}{N}\n",
    "\\end{align*}\n",
    "$$"
   ]
  },
  {
   "cell_type": "markdown",
   "metadata": {},
   "source": [
    "$$\n",
    "\\begin{align*}\n",
    "a_{0} N + a_{1} \\sum_{k=1}^{N} {x}_{k} + a_{2} \\sum_{k=1}^{N} {x}_{k}^{2} + \\sum_{k=1}^{N} - {y}_{k} &=0\\\\\n",
    "a_{0} \\sum_{k=1}^{N} {x}_{k} + a_{1} \\sum_{k=1}^{N} {x}_{k}^{2} + a_{2} \\sum_{k=1}^{N} {x}_{k}^{3} + \\sum_{k=1}^{N} - {x}_{k} {y}_{k} &=0\\\\\n",
    "a_{0}\\sum_{k=1}^{N} {x}_{k}^{2} + a_{1} \\sum_{k=1}^{N} {x}_{k}^{3} + a_{2} \\sum_{k=1}^{N} {x}_{k}^{4} + \\sum_{k=1}^{N} - {x}_{k}^{2} {y}_{k} &=0\n",
    "\\end{align*}\n",
    "$$"
   ]
  },
  {
   "cell_type": "code",
   "execution_count": 49,
   "metadata": {},
   "outputs": [],
   "source": [
    "from sympy import *"
   ]
  },
  {
   "cell_type": "code",
   "execution_count": 50,
   "metadata": {},
   "outputs": [],
   "source": [
    "a0, a1, a2, k, N = symbols('a0 a1 a2 k N')\n",
    "x = IndexedBase('x')\n",
    "y = IndexedBase('y')"
   ]
  },
  {
   "cell_type": "code",
   "execution_count": 51,
   "metadata": {},
   "outputs": [],
   "source": [
    "y_hat = a0+a1*x+a2*x**2"
   ]
  },
  {
   "cell_type": "code",
   "execution_count": 52,
   "metadata": {},
   "outputs": [
    {
     "data": {
      "text/plain": [
       "'\\\\frac{\\\\sum_{k=1}^{N} \\\\left(- a_{0} - a_{1} {x}_{k} - a_{2} {x}_{k}^{2} + {y}_{k}\\\\right)^{2}}{N}'"
      ]
     },
     "execution_count": 52,
     "metadata": {},
     "output_type": "execute_result"
    }
   ],
   "source": [
    "e_c = (1/N)*summation((y[k] - (a0+a1*x[k]+a2*x[k]**2))**2,(k, 1, N))\n",
    "latex(e_c)"
   ]
  },
  {
   "cell_type": "code",
   "execution_count": 53,
   "metadata": {},
   "outputs": [
    {
     "data": {
      "text/plain": [
       "'\\\\frac{\\\\sum_{k=1}^{N} 2 a_{0} {x}_{k}^{2}}{N} + \\\\frac{\\\\sum_{k=1}^{N} 2 a_{1} {x}_{k}^{3}}{N} + \\\\frac{\\\\sum_{k=1}^{N} 2 a_{2} {x}_{k}^{4}}{N} + \\\\frac{\\\\sum_{k=1}^{N} - 2 {x}_{k}^{2} {y}_{k}}{N}'"
      ]
     },
     "execution_count": 53,
     "metadata": {},
     "output_type": "execute_result"
    }
   ],
   "source": [
    "latex(diff(e_c, a2).expand())"
   ]
  },
  {
   "cell_type": "code",
   "execution_count": 54,
   "metadata": {},
   "outputs": [
    {
     "data": {
      "text/plain": [
       "'\\\\frac{\\\\sum_{k=1}^{N} 2 a_{0} {x}_{k}}{N} + \\\\frac{\\\\sum_{k=1}^{N} 2 a_{1} {x}_{k}^{2}}{N} + \\\\frac{\\\\sum_{k=1}^{N} 2 a_{2} {x}_{k}^{3}}{N} + \\\\frac{\\\\sum_{k=1}^{N} - 2 {x}_{k} {y}_{k}}{N}'"
      ]
     },
     "execution_count": 54,
     "metadata": {},
     "output_type": "execute_result"
    }
   ],
   "source": [
    "latex(diff(e_c, a1).expand())"
   ]
  },
  {
   "cell_type": "code",
   "execution_count": 55,
   "metadata": {},
   "outputs": [
    {
     "data": {
      "text/plain": [
       "'\\\\frac{\\\\sum_{k=1}^{N} 2 a_{0}}{N} + \\\\frac{\\\\sum_{k=1}^{N} 2 a_{1} {x}_{k}}{N} + \\\\frac{\\\\sum_{k=1}^{N} 2 a_{2} {x}_{k}^{2}}{N} + \\\\frac{\\\\sum_{k=1}^{N} - 2 {y}_{k}}{N}'"
      ]
     },
     "execution_count": 55,
     "metadata": {},
     "output_type": "execute_result"
    }
   ],
   "source": [
    "latex(diff(e_c, a0).expand())"
   ]
  },
  {
   "cell_type": "code",
   "execution_count": 56,
   "metadata": {},
   "outputs": [
    {
     "data": {
      "text/plain": [
       "'\\\\sum_{k=1}^{N} a_{0} {x}_{k}^{2} + \\\\sum_{k=1}^{N} a_{1} {x}_{k}^{3} + \\\\sum_{k=1}^{N} a_{2} {x}_{k}^{4} + \\\\sum_{k=1}^{N} - {x}_{k}^{2} {y}_{k}'"
      ]
     },
     "execution_count": 56,
     "metadata": {},
     "output_type": "execute_result"
    }
   ],
   "source": [
    "latex(diff(e_c*N/2, a2).simplify().expand())"
   ]
  },
  {
   "cell_type": "code",
   "execution_count": 57,
   "metadata": {},
   "outputs": [
    {
     "data": {
      "text/plain": [
       "'\\\\sum_{k=1}^{N} a_{0} {x}_{k} + \\\\sum_{k=1}^{N} a_{1} {x}_{k}^{2} + \\\\sum_{k=1}^{N} a_{2} {x}_{k}^{3} + \\\\sum_{k=1}^{N} - {x}_{k} {y}_{k}'"
      ]
     },
     "execution_count": 57,
     "metadata": {},
     "output_type": "execute_result"
    }
   ],
   "source": [
    "latex(diff(e_c*N/2, a1).simplify().expand())"
   ]
  },
  {
   "cell_type": "code",
   "execution_count": 58,
   "metadata": {},
   "outputs": [
    {
     "data": {
      "text/plain": [
       "'N a_{0} + \\\\sum_{k=1}^{N} a_{1} {x}_{k} + \\\\sum_{k=1}^{N} a_{2} {x}_{k}^{2} + \\\\sum_{k=1}^{N} - {y}_{k}'"
      ]
     },
     "execution_count": 58,
     "metadata": {},
     "output_type": "execute_result"
    }
   ],
   "source": [
    "latex(diff(e_c*N/2, a0).simplify().expand())"
   ]
  },
  {
   "cell_type": "code",
   "execution_count": 59,
   "metadata": {},
   "outputs": [
    {
     "data": {
      "text/plain": [
       "1.6666666666666667"
      ]
     },
     "execution_count": 59,
     "metadata": {},
     "output_type": "execute_result"
    }
   ],
   "source": [
    "5/3"
   ]
  }
 ],
 "metadata": {
  "kernelspec": {
   "display_name": "Python 3",
   "language": "python",
   "name": "python3"
  },
  "language_info": {
   "codemirror_mode": {
    "name": "ipython",
    "version": 3
   },
   "file_extension": ".py",
   "mimetype": "text/x-python",
   "name": "python",
   "nbconvert_exporter": "python",
   "pygments_lexer": "ipython3",
   "version": "3.11.4"
  },
  "orig_nbformat": 4
 },
 "nbformat": 4,
 "nbformat_minor": 2
}
