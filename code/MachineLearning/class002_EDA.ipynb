{
 "cells": [
  {
   "cell_type": "code",
   "execution_count": 33,
   "metadata": {},
   "outputs": [],
   "source": [
    "import pandas as pd\n",
    "import numpy as np\n",
    "from ast import literal_eval"
   ]
  },
  {
   "cell_type": "code",
   "execution_count": 34,
   "metadata": {},
   "outputs": [],
   "source": [
    "data_tracks = pd.read_csv(\"D:/DatasetsVault/spotify/tracks.csv\")\n",
    "data_artists = pd.read_csv(\"D:/DatasetsVault/spotify/artists.csv\")"
   ]
  },
  {
   "cell_type": "code",
   "execution_count": 35,
   "metadata": {},
   "outputs": [],
   "source": [
    "data_artists.rename(columns={\"popularity\":\"art_popularity\"}, inplace=True)\n",
    "data_tracks.rename(columns={\"popularity\":\"track_popularity\"}, inplace=True)"
   ]
  },
  {
   "cell_type": "code",
   "execution_count": 36,
   "metadata": {},
   "outputs": [
    {
     "data": {
      "text/plain": [
       "id                 0\n",
       "followers         11\n",
       "genres             0\n",
       "name               3\n",
       "art_popularity     0\n",
       "dtype: int64"
      ]
     },
     "execution_count": 36,
     "metadata": {},
     "output_type": "execute_result"
    }
   ],
   "source": [
    "data_artists.isna().sum()"
   ]
  },
  {
   "cell_type": "code",
   "execution_count": 37,
   "metadata": {},
   "outputs": [],
   "source": [
    "data_artists.dropna(inplace=True)"
   ]
  },
  {
   "cell_type": "code",
   "execution_count": 38,
   "metadata": {},
   "outputs": [
    {
     "data": {
      "text/plain": [
       "id                   0\n",
       "name                71\n",
       "track_popularity     0\n",
       "duration_ms          0\n",
       "explicit             0\n",
       "artists              0\n",
       "id_artists           0\n",
       "release_date         0\n",
       "danceability         0\n",
       "energy               0\n",
       "key                  0\n",
       "loudness             0\n",
       "mode                 0\n",
       "speechiness          0\n",
       "acousticness         0\n",
       "instrumentalness     0\n",
       "liveness             0\n",
       "valence              0\n",
       "tempo                0\n",
       "time_signature       0\n",
       "dtype: int64"
      ]
     },
     "execution_count": 38,
     "metadata": {},
     "output_type": "execute_result"
    }
   ],
   "source": [
    "data_tracks.isna().sum()"
   ]
  },
  {
   "cell_type": "code",
   "execution_count": 39,
   "metadata": {},
   "outputs": [],
   "source": [
    "data_tracks.dropna(inplace=True)"
   ]
  },
  {
   "cell_type": "code",
   "execution_count": 40,
   "metadata": {},
   "outputs": [],
   "source": [
    "data_tracks[\"id_artists\"] = data_tracks[\"id_artists\"].apply(literal_eval)"
   ]
  },
  {
   "cell_type": "code",
   "execution_count": 41,
   "metadata": {},
   "outputs": [],
   "source": [
    "df01 = data_tracks.explode(\"id_artists\")"
   ]
  },
  {
   "cell_type": "code",
   "execution_count": 42,
   "metadata": {},
   "outputs": [],
   "source": [
    "data_artists.rename(columns={\"id\":\"id_artists\"}, inplace=True)"
   ]
  },
  {
   "cell_type": "code",
   "execution_count": 43,
   "metadata": {},
   "outputs": [],
   "source": [
    "resultado = pd.merge(df01, data_artists, how=\"inner\", on=\"id_artists\")"
   ]
  },
  {
   "cell_type": "code",
   "execution_count": 44,
   "metadata": {},
   "outputs": [],
   "source": [
    "df02 = pd.concat([resultado.select_dtypes(np.number), resultado.id], axis=1)"
   ]
  },
  {
   "cell_type": "code",
   "execution_count": 45,
   "metadata": {},
   "outputs": [],
   "source": [
    "df03=df02.groupby('id').agg(\n",
    "    {    \n",
    "    \"track_popularity\":'sum',\n",
    "    \"duration_ms\":\"mean\",\n",
    "    \"explicit\":\"max\",\n",
    "    \"danceability\":\"mean\",\n",
    "    \"energy\":\"mean\",\n",
    "    \"key\":pd.Series.mode,\n",
    "    \"loudness\":\"mean\",\n",
    "    \"mode\":\"max\",\n",
    "    \"speechiness\":\"mean\",\n",
    "    \"acousticness\":\"mean\",\n",
    "    \"instrumentalness\":\"mean\",\n",
    "    \"liveness\":\"mean\",\n",
    "    \"valence\":\"mean\",\n",
    "    \"tempo\":\"mean\",\n",
    "    \"time_signature\":\"max\",\n",
    "    \"followers\":'sum',\n",
    "    \"art_popularity\":'sum'\n",
    "    }\n",
    ")"
   ]
  },
  {
   "cell_type": "code",
   "execution_count": 46,
   "metadata": {},
   "outputs": [],
   "source": [
    "df03.to_csv(\"D:/DatasetsVault/spotify/mixed_df.csv\")"
   ]
  }
 ],
 "metadata": {
  "kernelspec": {
   "display_name": "Python 3",
   "language": "python",
   "name": "python3"
  },
  "language_info": {
   "codemirror_mode": {
    "name": "ipython",
    "version": 3
   },
   "file_extension": ".py",
   "mimetype": "text/x-python",
   "name": "python",
   "nbconvert_exporter": "python",
   "pygments_lexer": "ipython3",
   "version": "3.11.4"
  },
  "orig_nbformat": 4
 },
 "nbformat": 4,
 "nbformat_minor": 2
}
