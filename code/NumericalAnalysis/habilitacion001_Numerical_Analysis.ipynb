{
 "cells": [
  {
   "cell_type": "code",
   "execution_count": 87,
   "metadata": {},
   "outputs": [],
   "source": [
    "import numpy as np\n",
    "import matplotlib.pyplot as plt\n",
    "from sympy import *"
   ]
  },
  {
   "cell_type": "code",
   "execution_count": 88,
   "metadata": {},
   "outputs": [],
   "source": [
    "x = np.array([1,2,3,4,5,6,7])\n",
    "y = np.array([1,2,-2,1.5,2.5,-1,0.5])"
   ]
  },
  {
   "cell_type": "code",
   "execution_count": 89,
   "metadata": {},
   "outputs": [
    {
     "data": {
      "image/png": "[encoded data removed]",
      "text/plain": [
       "<Figure size 640x480 with 1 Axes>"
      ]
     },
     "metadata": {},
     "output_type": "display_data"
    }
   ],
   "source": [
    "figura = plt.figure()\n",
    "plt.plot(x,y,'o')\n",
    "plt.grid()\n",
    "plt.show()"
   ]
  },
  {
   "cell_type": "code",
   "execution_count": 90,
   "metadata": {},
   "outputs": [],
   "source": [
    "x, a00, a01, a02, a03, a10, a11, a12, a13, a20, a21, a22, a23, a30, a31, a32, a33, a40, a41, a42, a43, a50, a51, a52, a53 = symbols('x a00 a01 a02 a03 a10 a11 a12 a13 a20 a21 a22 a23 a30 a31 a32 a33 a40 a41 a42 a43 a50 a51 a52 a53')"
   ]
  },
  {
   "cell_type": "code",
   "execution_count": 91,
   "metadata": {},
   "outputs": [],
   "source": [
    "s0 = a00 + a01*x + a02*x**2 + a03*x**3\n",
    "s1 = a10 + a11*x + a12*x**2 + a13*x**3\n",
    "s2 = a20 + a21*x + a22*x**2 + a23*x**3\n",
    "s3 = a30 + a31*x + a32*x**2 + a33*x**3\n",
    "s4 = a40 + a41*x + a42*x**2 + a43*x**3\n",
    "s5 = a50 + a51*x + a52*x**2 + a53*x**3"
   ]
  },
  {
   "cell_type": "code",
   "execution_count": 92,
   "metadata": {},
   "outputs": [],
   "source": [
    "s0p = diff(s0,x)\n",
    "s1p = diff(s1,x)\n",
    "s2p = diff(s2,x)\n",
    "s3p = diff(s3,x)\n",
    "s4p = diff(s4,x)\n",
    "s5p = diff(s5,x)"
   ]
  },
  {
   "cell_type": "code",
   "execution_count": 93,
   "metadata": {},
   "outputs": [],
   "source": [
    "s0pp = diff(s0p,x)\n",
    "s1pp = diff(s1p,x)\n",
    "s2pp = diff(s2p,x)\n",
    "s3pp = diff(s3p,x)\n",
    "s4pp = diff(s4p,x)\n",
    "s5pp = diff(s5p,x)"
   ]
  },
  {
   "cell_type": "code",
   "execution_count": 94,
   "metadata": {},
   "outputs": [],
   "source": [
    "v01 = s0.subs(x,1)-1\n",
    "v02 = s0.subs(x,2)-2\n",
    "v03 = s1.subs(x,2)-2\n",
    "v04 = s1.subs(x,3)+2\n",
    "v05 = s2.subs(x,3)+2\n",
    "v06 = s2.subs(x,4)-1.5\n",
    "v07 = s3.subs(x,4)-1.5\n",
    "v08 = s3.subs(x,5)-2.5\n",
    "v09 = s4.subs(x,5)-2.5\n",
    "v10 = s4.subs(x,6)+1\n",
    "v11 = s5.subs(x,6)+1\n",
    "v12 = s5.subs(x,7)-0.5\n",
    "\n",
    "v13 = s0p.subs(x,2)-s1p.subs(x,2)\n",
    "v14 = s1p.subs(x,3)-s2p.subs(x,3)\n",
    "v15 = s2p.subs(x,4)-s3p.subs(x,4)\n",
    "v16 = s3p.subs(x,5)-s4p.subs(x,5)\n",
    "v17 = s4p.subs(x,6)-s5p.subs(x,6)\n",
    "\n",
    "\n",
    "v18 = s0pp.subs(x,2)-s1pp.subs(x,2)\n",
    "v19 = s1pp.subs(x,3)-s2pp.subs(x,3)\n",
    "v20 = s2pp.subs(x,4)-s3pp.subs(x,4)\n",
    "v21 = s3pp.subs(x,5)-s4pp.subs(x,5)\n",
    "v22 = s4pp.subs(x,6)-s5pp.subs(x,6)\n",
    "\n",
    "v23 = s0pp.subs(x,1)\n",
    "v24 = s5pp.subs(x,7)"
   ]
  },
  {
   "cell_type": "code",
   "execution_count": 95,
   "metadata": {},
   "outputs": [],
   "source": [
    "resultado = solve([v01,v02,v03,v04,v05,v06,v07,v08,v09,v10,v11,v12,v13,v14,v15,v16,v17,v18,v19,v20,v21,v22,v23,v24], a00, a01, a02, a03, a10, a11, a12, a13, a20, a21, a22, a23, a30, a31, a32, a33, a40, a41, a42, a43, a50, a51, a52, a53, dict=True)\n",
    "a00 = float(resultado[0][a00])\n",
    "a01 = float(resultado[0][a01])\n",
    "a02 = float(resultado[0][a02])\n",
    "a03 = float(resultado[0][a03])\n",
    "\n",
    "a10 = float(resultado[0][a10])\n",
    "a11 = float(resultado[0][a11])\n",
    "a12 = float(resultado[0][a12])\n",
    "a13 = float(resultado[0][a13])\n",
    "\n",
    "a20 = float(resultado[0][a20])\n",
    "a21 = float(resultado[0][a21])\n",
    "a22 = float(resultado[0][a22])\n",
    "a23 = float(resultado[0][a23])\n",
    "\n",
    "a30 = float(resultado[0][a30])\n",
    "a31 = float(resultado[0][a31])\n",
    "a32 = float(resultado[0][a32])\n",
    "a33 = float(resultado[0][a33])\n",
    "\n",
    "a40 = float(resultado[0][a40])\n",
    "a41 = float(resultado[0][a41])\n",
    "a42 = float(resultado[0][a42])\n",
    "a43 = float(resultado[0][a43])\n",
    "\n",
    "a50 = float(resultado[0][a50])\n",
    "a51 = float(resultado[0][a51])\n",
    "a52 = float(resultado[0][a52])\n",
    "a53 = float(resultado[0][a53])\n",
    "\n",
    "s0 = lambda x: a00+a01*x+a02*x**2+a03*x**3\n",
    "s1 = lambda x: a10+a11*x+a12*x**2+a13*x**3\n",
    "s2 = lambda x: a20+a21*x+a22*x**2+a23*x**3\n",
    "s3 = lambda x: a30+a31*x+a32*x**2+a33*x**3\n",
    "s4 = lambda x: a40+a41*x+a42*x**2+a43*x**3\n",
    "s5 = lambda x: a50+a51*x+a52*x**2+a53*x**3"
   ]
  },
  {
   "cell_type": "code",
   "execution_count": 96,
   "metadata": {},
   "outputs": [],
   "source": [
    "def funcionSegmento(s0,s1,s2,s3,s4,s5,x):\n",
    "    if (x<2).any():\n",
    "        return s0(x)\n",
    "    elif (x>2 & x<3).any():\n",
    "        return s1(x)\n",
    "    elif (x>3 & x<4).any():\n",
    "        return s2(x)\n",
    "    elif (x>4 & x<5).any():\n",
    "        return s3(x)\n",
    "    elif (x>5 & x<6).any():\n",
    "        return s4(x)\n",
    "    elif (x>6).any():\n",
    "        return s5(x)\n",
    "    "
   ]
  },
  {
   "cell_type": "code",
   "execution_count": 98,
   "metadata": {},
   "outputs": [
    {
     "ename": "ValueError",
     "evalue": "The truth value of an array with more than one element is ambiguous. Use a.any() or a.all()",
     "output_type": "error",
     "traceback": [
      "\u001b[1;31m---------------------------------------------------------------------------\u001b[0m",
      "\u001b[1;31mValueError\u001b[0m                                Traceback (most recent call last)",
      "\u001b[1;32md:\\Ars Programandi et Algorithm\\pacaicedo.github.io\\code\\NumericalAnalysis\\habilitacion001_Numerical_Analysis.ipynb Cell 11\u001b[0m line \u001b[0;36m5\n\u001b[0;32m      <a href='vscode-notebook-cell:/d%3A/Ars%20Programandi%20et%20Algorithm/pacaicedo.github.io/code/NumericalAnalysis/habilitacion001_Numerical_Analysis.ipynb#X13sZmlsZQ%3D%3D?line=2'>3</a>\u001b[0m figura \u001b[39m=\u001b[39m plt\u001b[39m.\u001b[39mfigure()\n\u001b[0;32m      <a href='vscode-notebook-cell:/d%3A/Ars%20Programandi%20et%20Algorithm/pacaicedo.github.io/code/NumericalAnalysis/habilitacion001_Numerical_Analysis.ipynb#X13sZmlsZQ%3D%3D?line=3'>4</a>\u001b[0m plt\u001b[39m.\u001b[39mplot(x,y,\u001b[39m'\u001b[39m\u001b[39mo\u001b[39m\u001b[39m'\u001b[39m)\n\u001b[1;32m----> <a href='vscode-notebook-cell:/d%3A/Ars%20Programandi%20et%20Algorithm/pacaicedo.github.io/code/NumericalAnalysis/habilitacion001_Numerical_Analysis.ipynb#X13sZmlsZQ%3D%3D?line=4'>5</a>\u001b[0m plt\u001b[39m.\u001b[39mplot(x, funcionSegmento(s0,s1,s2,s3,s4,s5,x))\n\u001b[0;32m      <a href='vscode-notebook-cell:/d%3A/Ars%20Programandi%20et%20Algorithm/pacaicedo.github.io/code/NumericalAnalysis/habilitacion001_Numerical_Analysis.ipynb#X13sZmlsZQ%3D%3D?line=5'>6</a>\u001b[0m plt\u001b[39m.\u001b[39mgrid()\n\u001b[0;32m      <a href='vscode-notebook-cell:/d%3A/Ars%20Programandi%20et%20Algorithm/pacaicedo.github.io/code/NumericalAnalysis/habilitacion001_Numerical_Analysis.ipynb#X13sZmlsZQ%3D%3D?line=6'>7</a>\u001b[0m plt\u001b[39m.\u001b[39mshow()\n",
      "\u001b[1;32md:\\Ars Programandi et Algorithm\\pacaicedo.github.io\\code\\NumericalAnalysis\\habilitacion001_Numerical_Analysis.ipynb Cell 11\u001b[0m line \u001b[0;36m2\n\u001b[0;32m      <a href='vscode-notebook-cell:/d%3A/Ars%20Programandi%20et%20Algorithm/pacaicedo.github.io/code/NumericalAnalysis/habilitacion001_Numerical_Analysis.ipynb#X13sZmlsZQ%3D%3D?line=0'>1</a>\u001b[0m \u001b[39mdef\u001b[39;00m \u001b[39mfuncionSegmento\u001b[39m(s0,s1,s2,s3,s4,s5,x):\n\u001b[1;32m----> <a href='vscode-notebook-cell:/d%3A/Ars%20Programandi%20et%20Algorithm/pacaicedo.github.io/code/NumericalAnalysis/habilitacion001_Numerical_Analysis.ipynb#X13sZmlsZQ%3D%3D?line=1'>2</a>\u001b[0m     \u001b[39mif\u001b[39;00m x\u001b[39m<\u001b[39m\u001b[39m2\u001b[39m:\n\u001b[0;32m      <a href='vscode-notebook-cell:/d%3A/Ars%20Programandi%20et%20Algorithm/pacaicedo.github.io/code/NumericalAnalysis/habilitacion001_Numerical_Analysis.ipynb#X13sZmlsZQ%3D%3D?line=2'>3</a>\u001b[0m         \u001b[39mreturn\u001b[39;00m s0(x)\n\u001b[0;32m      <a href='vscode-notebook-cell:/d%3A/Ars%20Programandi%20et%20Algorithm/pacaicedo.github.io/code/NumericalAnalysis/habilitacion001_Numerical_Analysis.ipynb#X13sZmlsZQ%3D%3D?line=3'>4</a>\u001b[0m     \u001b[39melif\u001b[39;00m x\u001b[39m>\u001b[39m\u001b[39m2\u001b[39m \u001b[39m&\u001b[39m x\u001b[39m<\u001b[39m\u001b[39m3\u001b[39m:\n",
      "\u001b[1;31mValueError\u001b[0m: The truth value of an array with more than one element is ambiguous. Use a.any() or a.all()"
     ]
    },
    {
     "data": {
      "image/png": "[encoded data removed]",
      "text/plain": [
       "<Figure size 640x480 with 1 Axes>"
      ]
     },
     "metadata": {},
     "output_type": "display_data"
    }
   ],
   "source": [
    "x = np.array([1,2,3,4,5,6,7])\n",
    "y = np.array([1,2,-2,1.5,2.5,-1,0.5])\n",
    "figura = plt.figure()\n",
    "plt.plot(x,y,'o')\n",
    "plt.plot(x, funcionSegmento(s0,s1,s2,s3,s4,s5,x))\n",
    "plt.grid()\n",
    "plt.show()"
   ]
  }
 ],
 "metadata": {
  "kernelspec": {
   "display_name": "Python 3",
   "language": "python",
   "name": "python3"
  },
  "language_info": {
   "codemirror_mode": {
    "name": "ipython",
    "version": 3
   },
   "file_extension": ".py",
   "mimetype": "text/x-python",
   "name": "python",
   "nbconvert_exporter": "python",
   "pygments_lexer": "ipython3",
   "version": "3.11.5"
  },
  "orig_nbformat": 4
 },
 "nbformat": 4,
 "nbformat_minor": 2
}
