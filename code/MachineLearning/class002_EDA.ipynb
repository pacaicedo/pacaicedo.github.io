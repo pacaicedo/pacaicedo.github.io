{
 "cells": [
  {
   "cell_type": "code",
   "execution_count": null,
   "metadata": {},
   "outputs": [],
   "source": [
    "import pandas as pd\n",
    "import numpy as np\n",
    "from ast import literal_eval"
   ]
  },
  {
   "cell_type": "code",
   "execution_count": null,
   "metadata": {},
   "outputs": [],
   "source": [
    "data_tracks = pd.read_csv(\"/Users/pacaicedo/DatasetsVault/spotify/tracks.csv\")\n",
    "data_artists = pd.read_csv(\"/Users/pacaicedo/DatasetsVault/spotify/artists.csv\")"
   ]
  },
  {
   "cell_type": "code",
   "execution_count": null,
   "metadata": {},
   "outputs": [],
   "source": [
    "data_artists.rename(columns={\"popularity\":\"art_popularity\"}, inplace=True)\n",
    "data_tracks.rename(columns={\"popularity\":\"track_popularity\"}, inplace=True)"
   ]
  },
  {
   "cell_type": "code",
   "execution_count": null,
   "metadata": {},
   "outputs": [],
   "source": [
    "data_artists.isna().sum()"
   ]
  },
  {
   "cell_type": "code",
   "execution_count": null,
   "metadata": {},
   "outputs": [],
   "source": [
    "data_artists.dropna(inplace=True)"
   ]
  },
  {
   "cell_type": "code",
   "execution_count": null,
   "metadata": {},
   "outputs": [],
   "source": [
    "data_tracks.isna().sum()"
   ]
  },
  {
   "cell_type": "code",
   "execution_count": null,
   "metadata": {},
   "outputs": [],
   "source": [
    "data_tracks.dropna(inplace=True)"
   ]
  },
  {
   "cell_type": "code",
   "execution_count": null,
   "metadata": {},
   "outputs": [],
   "source": [
    "data_tracks[\"id_artists\"] = data_tracks[\"id_artists\"].apply(literal_eval)"
   ]
  },
  {
   "cell_type": "code",
   "execution_count": null,
   "metadata": {},
   "outputs": [],
   "source": [
    "df01 = data_tracks.explode(\"id_artists\")"
   ]
  },
  {
   "cell_type": "code",
   "execution_count": null,
   "metadata": {},
   "outputs": [],
   "source": [
    "data_artists.rename(columns={\"id\":\"id_artists\"}, inplace=True)"
   ]
  },
  {
   "cell_type": "code",
   "execution_count": null,
   "metadata": {},
   "outputs": [],
   "source": [
    "resultado = pd.merge(df01, data_artists, how=\"inner\", on=\"id_artists\")"
   ]
  },
  {
   "cell_type": "code",
   "execution_count": null,
   "metadata": {},
   "outputs": [],
   "source": [
    "df02 = pd.concat([resultado.select_dtypes(np.number), resultado.id], axis=1)"
   ]
  },
  {
   "cell_type": "code",
   "execution_count": null,
   "metadata": {},
   "outputs": [],
   "source": [
    "df03=df02.groupby('id').agg(\n",
    "    {    \n",
    "    \"track_popularity\":'sum',\n",
    "    \"duration_ms\":\"mean\",\n",
    "    \"explicit\":\"max\",\n",
    "    \"danceability\":\"mean\",\n",
    "    \"energy\":\"mean\",\n",
    "    \"key\":pd.Series.mode,\n",
    "    \"loudness\":\"mean\",\n",
    "    \"mode\":\"max\",\n",
    "    \"speechiness\":\"mean\",\n",
    "    \"acousticness\":\"mean\",\n",
    "    \"instrumentalness\":\"mean\",\n",
    "    \"liveness\":\"mean\",\n",
    "    \"valence\":\"mean\",\n",
    "    \"tempo\":\"mean\",\n",
    "    \"time_signature\":\"max\",\n",
    "    \"followers\":'sum',\n",
    "    \"art_popularity\":'sum'\n",
    "    }\n",
    ")"
   ]
  },
  {
   "cell_type": "code",
   "execution_count": null,
   "metadata": {},
   "outputs": [],
   "source": [
    "df03.to_csv(\"/Users/pacaicedo/DatasetsVault/spotify/mixed_df.csv\")"
   ]
  },
  {
   "cell_type": "code",
   "execution_count": null,
   "metadata": {},
   "outputs": [],
   "source": [
    "import plotly.express as px\n",
    "\n",
    "fig=px.scatter(data_frame=df03, x=\"track_popularity\", y=\"art_popularity\", hover_data=[\"followers\"])\n",
    "fig.show()"
   ]
  },
  {
   "cell_type": "code",
   "execution_count": null,
   "metadata": {},
   "outputs": [],
   "source": [
    "import plotly.express as px\n",
    "\n",
    "fig=px.scatter(data_frame=df03, x=\"followers\", y=\"track_popularity\", log_x=True, log_y=True)\n",
    "fig.show()"
   ]
  },
  {
   "cell_type": "code",
   "execution_count": null,
   "metadata": {},
   "outputs": [],
   "source": [
    "df03[\"NewVariable01\"] = np.log(1+df03.followers)\n",
    "fig=px.scatter(data_frame=df03, x=\"NewVariable01\", y=\"track_popularity\")\n",
    "fig.show()"
   ]
  },
  {
   "cell_type": "code",
   "execution_count": null,
   "metadata": {},
   "outputs": [],
   "source": [
    "df03[\"NewVariable02\"] = np.sqrt(df03.followers)\n",
    "fig=px.scatter(data_frame=df03, x=\"NewVariable02\", y=\"track_popularity\")\n",
    "fig.show()"
   ]
  },
  {
   "cell_type": "code",
   "execution_count": null,
   "metadata": {},
   "outputs": [],
   "source": [
    "df03[\"NewVariable03\"] = 1/(1+np.exp(-df03.followers))\n",
    "fig=px.scatter(data_frame=df03, x=\"NewVariable03\", y=\"track_popularity\")\n",
    "fig.show()"
   ]
  }
 ],
 "metadata": {
  "kernelspec": {
   "display_name": "Python 3",
   "language": "python",
   "name": "python3"
  },
  "language_info": {
   "codemirror_mode": {
    "name": "ipython",
    "version": 3
   },
   "file_extension": ".py",
   "mimetype": "text/x-python",
   "name": "python",
   "nbconvert_exporter": "python",
   "pygments_lexer": "ipython3",
   "version": "3.11.4"
  },
  "orig_nbformat": 4
 },
 "nbformat": 4,
 "nbformat_minor": 2
}
